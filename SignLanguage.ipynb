{
  "nbformat": 4,
  "nbformat_minor": 0,
  "metadata": {
    "colab": {
      "name": "SignLanguage.ipynb",
      "provenance": [],
      "collapsed_sections": [],
      "mount_file_id": "11WvXP9UsbmOYrJUYvh7QAUIh4Pc-iapM",
      "authorship_tag": "ABX9TyNd3QKRM0VV+vMhoxOOJ2q5",
      "include_colab_link": true
    },
    "kernelspec": {
      "name": "python3",
      "display_name": "Python 3"
    },
    "accelerator": "GPU"
  },
  "cells": [
    {
      "cell_type": "markdown",
      "metadata": {
        "id": "view-in-github",
        "colab_type": "text"
      },
      "source": [
        "<a href=\"https://colab.research.google.com/github/SusmitWani/Sign-Language-Detection-MNIST/blob/master/SignLanguage.ipynb\" target=\"_parent\"><img src=\"https://colab.research.google.com/assets/colab-badge.svg\" alt=\"Open In Colab\"/></a>"
      ]
    },
    {
      "cell_type": "code",
      "metadata": {
        "id": "NSAkbilDBl2K",
        "colab_type": "code",
        "colab": {}
      },
      "source": [
        "import csv\n",
        "import numpy as np\n",
        "import tensorflow as tf\n",
        "from tensorflow.keras.preprocessing.image import ImageDataGenerator"
      ],
      "execution_count": 1,
      "outputs": []
    },
    {
      "cell_type": "code",
      "metadata": {
        "id": "XxLpdXxrCzLN",
        "colab_type": "code",
        "colab": {
          "base_uri": "https://localhost:8080/",
          "height": 84
        },
        "outputId": "9b198986-42da-403a-8810-02d6b0018142"
      },
      "source": [
        "def get_data(filename):\n",
        "    with open(filename) as training_file:\n",
        "        lines = training_file.readlines()[1:]\n",
        "        labels = np.zeros(len(lines))\n",
        "        images = np.zeros([len(lines), 28, 28])\n",
        "        for i, x in enumerate(lines):\n",
        "            x = x.strip().split(',')\n",
        "            labels[i] = int(x[0])\n",
        "            images[i, :, :] = np.array_split(x[1:785], 28)\n",
        "    return images, labels\n",
        "\n",
        "path_sign_mnist_train = f\"/content/drive/My Drive/Sign Language Classifier/sign_mnist_train/sign_mnist_train.csv\"\n",
        "path_sign_mnist_test = f\"/content/drive/My Drive/Sign Language Classifier/sign_mnist_test/sign_mnist_test.csv\"\n",
        "training_images, training_labels = get_data(path_sign_mnist_train)\n",
        "testing_images, testing_labels = get_data(path_sign_mnist_test)\n",
        "\n",
        "print(training_images.shape)\n",
        "print(training_labels.shape)\n",
        "print(testing_images.shape)\n",
        "print(testing_labels.shape)\n"
      ],
      "execution_count": 2,
      "outputs": [
        {
          "output_type": "stream",
          "text": [
            "(27455, 28, 28)\n",
            "(27455,)\n",
            "(7172, 28, 28)\n",
            "(7172,)\n"
          ],
          "name": "stdout"
        }
      ]
    },
    {
      "cell_type": "code",
      "metadata": {
        "id": "sRp-06NLD7ti",
        "colab_type": "code",
        "colab": {
          "base_uri": "https://localhost:8080/",
          "height": 50
        },
        "outputId": "cee510dc-7ef3-44bb-fc52-172bce1bfb06"
      },
      "source": [
        "training_images = np.expand_dims(training_images, axis=3)\n",
        "testing_images = np.expand_dims(testing_images, axis=3)\n",
        "\n",
        "print(training_images.shape)\n",
        "print(testing_images.shape)"
      ],
      "execution_count": 3,
      "outputs": [
        {
          "output_type": "stream",
          "text": [
            "(27455, 28, 28, 1)\n",
            "(7172, 28, 28, 1)\n"
          ],
          "name": "stdout"
        }
      ]
    },
    {
      "cell_type": "code",
      "metadata": {
        "id": "UfEHIDkrEBbZ",
        "colab_type": "code",
        "colab": {}
      },
      "source": [
        "train_datagen = ImageDataGenerator(rescale = 1./255.,\n",
        "                                  shear_range=0.3,\n",
        "                                  zoom_range=0.2,\n",
        "                                  fill_mode='nearest',\n",
        "                                  height_shift_range=0.2,\n",
        "                                  width_shift_range=0.2)\n",
        "\n",
        "validation_datagen = ImageDataGenerator(rescale=1./255)"
      ],
      "execution_count": 4,
      "outputs": []
    },
    {
      "cell_type": "code",
      "metadata": {
        "id": "7PAL4Qa3T_Ll",
        "colab_type": "code",
        "colab": {}
      },
      "source": [
        "class myCallback(tf.keras.callbacks.Callback):\n",
        "    def on_epoch_end(self, epoch, logs={}):\n",
        "        if(logs.get('accuracy')>0.97):\n",
        "            print(\"\\nReached 97.0% accuracy so cancelling training!\")\n",
        "            self.model.stop_training = True"
      ],
      "execution_count": 5,
      "outputs": []
    },
    {
      "cell_type": "code",
      "metadata": {
        "id": "sDk2sT5dED2y",
        "colab_type": "code",
        "colab": {
          "base_uri": "https://localhost:8080/",
          "height": 1000
        },
        "outputId": "cd9499b4-8010-4973-f456-6124a9d70a72"
      },
      "source": [
        "model = tf.keras.models.Sequential([\n",
        "    tf.keras.layers.Conv2D(64, (5,5), activation='relu', input_shape=(28,28,1)),\n",
        "    tf.keras.layers.MaxPooling2D(2,2),\n",
        "    tf.keras.layers.Conv2D(128,(3,3), activation='relu'),\n",
        "    tf.keras.layers.MaxPooling2D(2,2),\n",
        "    tf.keras.layers.Dropout(0.2),\n",
        "    tf.keras.layers.Flatten(),\n",
        "    tf.keras.layers.Dense(512, activation='relu'),\n",
        "    tf.keras.layers.Dense(256, activation='relu'),\n",
        "    tf.keras.layers.Dense(25, activation='softmax')]\n",
        "    )\n",
        "\n",
        "# Compile Model. \n",
        "model.compile(loss='sparse_categorical_crossentropy', metrics=['accuracy'], optimizer='adam')\n",
        "\n",
        "# Train the Model\n",
        "callback = myCallback()\n",
        "train_generator = train_datagen.flow(training_images, training_labels)\n",
        "validation_generator = validation_datagen.flow(testing_images, testing_labels)\n",
        "# history = model.fit_generator(train_generator, epochs=30, verbose=2, validation_data = validation_generator, callbacks=[callback])\n",
        "history = model.fit_generator(train_generator, epochs=30, verbose=1, validation_data = validation_generator)\n",
        "\n",
        "model.evaluate(testing_images, testing_labels, verbose=1)"
      ],
      "execution_count": 6,
      "outputs": [
        {
          "output_type": "stream",
          "text": [
            "WARNING:tensorflow:From <ipython-input-6-84fa06091917>:21: Model.fit_generator (from tensorflow.python.keras.engine.training) is deprecated and will be removed in a future version.\n",
            "Instructions for updating:\n",
            "Please use Model.fit, which supports generators.\n",
            "Epoch 1/30\n",
            "858/858 [==============================] - 9s 10ms/step - loss: 1.7638 - accuracy: 0.4361 - val_loss: 0.5392 - val_accuracy: 0.7985\n",
            "Epoch 2/30\n",
            "858/858 [==============================] - 8s 10ms/step - loss: 0.6084 - accuracy: 0.7919 - val_loss: 0.2046 - val_accuracy: 0.9236\n",
            "Epoch 3/30\n",
            "858/858 [==============================] - 8s 10ms/step - loss: 0.3572 - accuracy: 0.8762 - val_loss: 0.1419 - val_accuracy: 0.9417\n",
            "Epoch 4/30\n",
            "858/858 [==============================] - 8s 10ms/step - loss: 0.2409 - accuracy: 0.9192 - val_loss: 0.0631 - val_accuracy: 0.9780\n",
            "Epoch 5/30\n",
            "858/858 [==============================] - 8s 10ms/step - loss: 0.1832 - accuracy: 0.9387 - val_loss: 0.0254 - val_accuracy: 0.9923\n",
            "Epoch 6/30\n",
            "858/858 [==============================] - 8s 10ms/step - loss: 0.1458 - accuracy: 0.9529 - val_loss: 0.0307 - val_accuracy: 0.9911\n",
            "Epoch 7/30\n",
            "858/858 [==============================] - 8s 10ms/step - loss: 0.1289 - accuracy: 0.9562 - val_loss: 0.0663 - val_accuracy: 0.9791\n",
            "Epoch 8/30\n",
            "858/858 [==============================] - 8s 10ms/step - loss: 0.1169 - accuracy: 0.9621 - val_loss: 0.0125 - val_accuracy: 0.9974\n",
            "Epoch 9/30\n",
            "858/858 [==============================] - 8s 10ms/step - loss: 0.1044 - accuracy: 0.9660 - val_loss: 0.0175 - val_accuracy: 0.9932\n",
            "Epoch 10/30\n",
            "858/858 [==============================] - 8s 10ms/step - loss: 0.0913 - accuracy: 0.9697 - val_loss: 0.0044 - val_accuracy: 0.9996\n",
            "Epoch 11/30\n",
            "858/858 [==============================] - 8s 10ms/step - loss: 0.0879 - accuracy: 0.9710 - val_loss: 0.0024 - val_accuracy: 1.0000\n",
            "Epoch 12/30\n",
            "858/858 [==============================] - 9s 10ms/step - loss: 0.0808 - accuracy: 0.9745 - val_loss: 0.0453 - val_accuracy: 0.9762\n",
            "Epoch 13/30\n",
            "858/858 [==============================] - 9s 10ms/step - loss: 0.0740 - accuracy: 0.9749 - val_loss: 0.0090 - val_accuracy: 0.9940\n",
            "Epoch 14/30\n",
            "858/858 [==============================] - 8s 10ms/step - loss: 0.0611 - accuracy: 0.9797 - val_loss: 0.0109 - val_accuracy: 0.9962\n",
            "Epoch 15/30\n",
            "858/858 [==============================] - 8s 10ms/step - loss: 0.0767 - accuracy: 0.9751 - val_loss: 0.0152 - val_accuracy: 0.9950\n",
            "Epoch 16/30\n",
            "858/858 [==============================] - 8s 10ms/step - loss: 0.0578 - accuracy: 0.9818 - val_loss: 0.0070 - val_accuracy: 0.9989\n",
            "Epoch 17/30\n",
            "858/858 [==============================] - 8s 10ms/step - loss: 0.0553 - accuracy: 0.9817 - val_loss: 0.0085 - val_accuracy: 0.9962\n",
            "Epoch 18/30\n",
            "858/858 [==============================] - 8s 10ms/step - loss: 0.0602 - accuracy: 0.9808 - val_loss: 0.0068 - val_accuracy: 0.9978\n",
            "Epoch 19/30\n",
            "858/858 [==============================] - 8s 10ms/step - loss: 0.0641 - accuracy: 0.9804 - val_loss: 0.0112 - val_accuracy: 0.9971\n",
            "Epoch 20/30\n",
            "858/858 [==============================] - 8s 10ms/step - loss: 0.0498 - accuracy: 0.9844 - val_loss: 0.0088 - val_accuracy: 0.9969\n",
            "Epoch 21/30\n",
            "858/858 [==============================] - 8s 10ms/step - loss: 0.0542 - accuracy: 0.9824 - val_loss: 8.2582e-04 - val_accuracy: 1.0000\n",
            "Epoch 22/30\n",
            "858/858 [==============================] - 8s 10ms/step - loss: 0.0520 - accuracy: 0.9835 - val_loss: 0.0010 - val_accuracy: 0.9999\n",
            "Epoch 23/30\n",
            "858/858 [==============================] - 8s 10ms/step - loss: 0.0498 - accuracy: 0.9849 - val_loss: 0.0055 - val_accuracy: 0.9983\n",
            "Epoch 24/30\n",
            "858/858 [==============================] - 8s 10ms/step - loss: 0.0444 - accuracy: 0.9859 - val_loss: 0.0153 - val_accuracy: 0.9961\n",
            "Epoch 25/30\n",
            "858/858 [==============================] - 8s 10ms/step - loss: 0.0464 - accuracy: 0.9851 - val_loss: 0.0137 - val_accuracy: 0.9948\n",
            "Epoch 26/30\n",
            "858/858 [==============================] - 8s 10ms/step - loss: 0.0499 - accuracy: 0.9840 - val_loss: 0.0054 - val_accuracy: 0.9975\n",
            "Epoch 27/30\n",
            "858/858 [==============================] - 8s 10ms/step - loss: 0.0432 - accuracy: 0.9865 - val_loss: 0.0082 - val_accuracy: 0.9978\n",
            "Epoch 28/30\n",
            "858/858 [==============================] - 8s 10ms/step - loss: 0.0385 - accuracy: 0.9879 - val_loss: 0.0024 - val_accuracy: 0.9994\n",
            "Epoch 29/30\n",
            "858/858 [==============================] - 8s 10ms/step - loss: 0.0385 - accuracy: 0.9879 - val_loss: 0.0034 - val_accuracy: 0.9983\n",
            "Epoch 30/30\n",
            "858/858 [==============================] - 8s 10ms/step - loss: 0.0384 - accuracy: 0.9885 - val_loss: 0.0016 - val_accuracy: 0.9997\n",
            "225/225 [==============================] - 1s 2ms/step - loss: 2.4127 - accuracy: 0.9927\n"
          ],
          "name": "stdout"
        },
        {
          "output_type": "execute_result",
          "data": {
            "text/plain": [
              "[2.412662982940674, 0.9927495718002319]"
            ]
          },
          "metadata": {
            "tags": []
          },
          "execution_count": 6
        }
      ]
    },
    {
      "cell_type": "code",
      "metadata": {
        "id": "e5LjYsGb4IVA",
        "colab_type": "code",
        "colab": {
          "base_uri": "https://localhost:8080/",
          "height": 454
        },
        "outputId": "81405f30-c55e-4123-fcc9-4f7de214be05"
      },
      "source": [
        "model.summary()"
      ],
      "execution_count": 7,
      "outputs": [
        {
          "output_type": "stream",
          "text": [
            "Model: \"sequential\"\n",
            "_________________________________________________________________\n",
            "Layer (type)                 Output Shape              Param #   \n",
            "=================================================================\n",
            "conv2d (Conv2D)              (None, 24, 24, 64)        1664      \n",
            "_________________________________________________________________\n",
            "max_pooling2d (MaxPooling2D) (None, 12, 12, 64)        0         \n",
            "_________________________________________________________________\n",
            "conv2d_1 (Conv2D)            (None, 10, 10, 128)       73856     \n",
            "_________________________________________________________________\n",
            "max_pooling2d_1 (MaxPooling2 (None, 5, 5, 128)         0         \n",
            "_________________________________________________________________\n",
            "dropout (Dropout)            (None, 5, 5, 128)         0         \n",
            "_________________________________________________________________\n",
            "flatten (Flatten)            (None, 3200)              0         \n",
            "_________________________________________________________________\n",
            "dense (Dense)                (None, 512)               1638912   \n",
            "_________________________________________________________________\n",
            "dense_1 (Dense)              (None, 256)               131328    \n",
            "_________________________________________________________________\n",
            "dense_2 (Dense)              (None, 25)                6425      \n",
            "=================================================================\n",
            "Total params: 1,852,185\n",
            "Trainable params: 1,852,185\n",
            "Non-trainable params: 0\n",
            "_________________________________________________________________\n"
          ],
          "name": "stdout"
        }
      ]
    },
    {
      "cell_type": "code",
      "metadata": {
        "id": "iy17mc7hEQsW",
        "colab_type": "code",
        "colab": {
          "base_uri": "https://localhost:8080/",
          "height": 545
        },
        "outputId": "00293b51-1c10-4539-db5e-2d134293fd2b"
      },
      "source": [
        "# Plot the chart for accuracy and loss on both training and validation\n",
        "%matplotlib inline\n",
        "import matplotlib.pyplot as plt\n",
        "acc = history.history['accuracy']\n",
        "val_acc = history.history['val_accuracy']\n",
        "loss = history.history['loss']\n",
        "val_loss = history.history['val_loss']\n",
        "\n",
        "epochs = range(len(acc))\n",
        "\n",
        "plt.plot(epochs, acc, 'r', label='Training accuracy')\n",
        "plt.plot(epochs, val_acc, 'b', label='Validation accuracy')\n",
        "plt.title('Training and validation accuracy')\n",
        "plt.legend()\n",
        "plt.figure()\n",
        "\n",
        "plt.plot(epochs, loss, 'r', label='Training Loss')\n",
        "plt.plot(epochs, val_loss, 'b', label='Validation Loss')\n",
        "plt.title('Training and validation loss')\n",
        "plt.legend()\n",
        "\n",
        "plt.show()"
      ],
      "execution_count": 8,
      "outputs": [
        {
          "output_type": "display_data",
          "data": {
            "image/png": "[encoded data removed]",
            "text/plain": [
              "<Figure size 432x288 with 1 Axes>"
            ]
          },
          "metadata": {
            "tags": [],
            "needs_background": "light"
          }
        },
        {
          "output_type": "display_data",
          "data": {
            "image/png": "[encoded data removed]",
            "text/plain": [
              "<Figure size 432x288 with 1 Axes>"
            ]
          },
          "metadata": {
            "tags": [],
            "needs_background": "light"
          }
        }
      ]
    }
  ]
}